{
 "cells": [
  {
   "cell_type": "code",
   "execution_count": 1,
   "id": "8649824a",
   "metadata": {},
   "outputs": [],
   "source": [
    "import numpy as np\n",
    "import networkx as nx\n",
    "import gymnasium as gym\n",
    "from gymnasium import spaces\n",
    "\n",
    "from stable_baselines3.common.env_checker import check_env\n",
    "from stable_baselines3 import A2C, SAC, PPO, DQN\n",
    "from stable_baselines3.common.env_util import make_vec_env\n",
    "\n",
    "import random\n",
    "import pickle\n",
    "\n",
    "import os"
   ]
  },
  {
   "cell_type": "code",
   "execution_count": 2,
   "id": "733eb68f",
   "metadata": {},
   "outputs": [
    {
     "ename": "SyntaxError",
     "evalue": "'(' was never closed (2539595165.py, line 28)",
     "output_type": "error",
     "traceback": [
      "\u001b[0;36m  Cell \u001b[0;32mIn[2], line 28\u001b[0;36m\u001b[0m\n\u001b[0;31m    self.action_space = spaces.MultiBinary(np.array([self.n])\u001b[0m\n\u001b[0m                                          ^\u001b[0m\n\u001b[0;31mSyntaxError\u001b[0m\u001b[0;31m:\u001b[0m '(' was never closed\n"
     ]
    }
   ],
   "source": [
    "class PeriodicSensor(gym.Env):\n",
    "\n",
    "    def __init__(self, graph, initial_i=1, infect_prob=0.1, cure_prob=0, budget=2, seed=False,\n",
    "                 file_path='fixed_india'):\n",
    "    # === INPUTS ===\n",
    "    # graph = networkx.Graph() object\n",
    "    # initial_i = int, number of nodes that are initially infected\n",
    "    # infect_prob = float, probability of infection transferring over an edge\n",
    "    # budget = int, number of nodes that can be tested at each time step\n",
    "    \n",
    "        super(PeriodicSensor, self).__init__()\n",
    "        self.graph = graph\n",
    "        self.n = len(self.graph)\n",
    "        self.all_nodes = list(range(self.n))\n",
    "        self.initial_i = initial_i\n",
    "        self.infect_prob = infect_prob\n",
    "        self.cure_prob = cure_prob\n",
    "        self.A = nx.to_numpy_array(graph)\n",
    "\n",
    "        self.file_path = file_path\n",
    "        \n",
    "        \n",
    "        self.observation_space = spaces.Box(low=0, high=1, shape=(self.n, self.n+3), dtype=np.float64)\n",
    "            #spaces.Box(low=0, high=1, shape=(self.n,), dtype=np.float64)\n",
    "        \n",
    "        #Defining action space for just budget 1 right now, can change to a box later\n",
    "        #self.action_space = spaces.Discrete(self.n)\n",
    "        self.action_space = spaces.MultiBinary(np.array([self.n]))\n",
    "        \n",
    "\n",
    "        self.seed = seed\n",
    "    \n",
    "    # TODO Need to do reset\n",
    "    def reset(self, seed=None, options=None):\n",
    "        super().reset(seed=seed, options=options)\n",
    "        #if selected_cascade:\n",
    "        #    self.fised_graph_num = selected_cascade\n",
    "        #else:\n",
    "        #    self.fixed_graph_num += 1\n",
    "\n",
    "\n",
    "        self.cascade = nx.Graph()\n",
    "        self.cascade.add_nodes_from(self.graph)\n",
    "        \n",
    "        self.source = random.choice(self.all_nodes)\n",
    "        if self.seed:\n",
    "            self.sources = random.Random(seed).choices(self.all_nodes)\n",
    "        else:\n",
    "            self.sources = random.choices(self.all_nodes)\n",
    "        \n",
    "        with open(f'{self.file_path}/data_{self.fixed_graph_num}.pkl', 'rb') as pkl:\n",
    "            self.sources, self.cascade = pickle.load(pkl)\n",
    "\n",
    "        # Should this be implemented in a wrapper? Maybe? See tutorial Notebook 2\n",
    "        self.t = 1\n",
    "\n",
    "\n",
    "        nx.set_node_attributes(self.graph, self.n + 1, 'Distance')\n",
    "        for source in self.sources:\n",
    "            distances = nx.shortest_path_length(self.cascade, source)\n",
    "            for i in self.graph.nodes():\n",
    "                try:\n",
    "                    if self.graph.nodes[i]['Distance'] > distances[i]:\n",
    "                        self.graph.nodes[i]['Distance'] = distances[i]\n",
    "                except KeyError:\n",
    "                    continue\n",
    "        self.belief_vector = float(self.initial_i) / self.n * np.ones(self.n)\n",
    "\n",
    "        return float(self.initial_i/self.n) * np.ones(self.n), {} #empty info dict\n",
    "    \n",
    "    # TODO define step\n",
    "    def step(self, ...):\n",
    "        "
   ]
  },
  {
   "cell_type": "code",
   "execution_count": null,
   "id": "89e7ca95",
   "metadata": {},
   "outputs": [],
   "source": []
  }
 ],
 "metadata": {
  "kernelspec": {
   "display_name": "Python 3 (ipykernel)",
   "language": "python",
   "name": "python3"
  },
  "language_info": {
   "codemirror_mode": {
    "name": "ipython",
    "version": 3
   },
   "file_extension": ".py",
   "mimetype": "text/x-python",
   "name": "python",
   "nbconvert_exporter": "python",
   "pygments_lexer": "ipython3",
   "version": "3.11.5"
  }
 },
 "nbformat": 4,
 "nbformat_minor": 5
}
